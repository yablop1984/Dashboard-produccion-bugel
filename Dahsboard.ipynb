{
 "cells": [
  {
   "cell_type": "code",
   "execution_count": 1,
   "id": "7217c471",
   "metadata": {},
   "outputs": [
    {
     "name": "stdout",
     "output_type": "stream",
     "text": [
      "Filas cargadas: 154\n",
      "            nombre           proyecto producto                parte  \\\n",
      "0      ELKIN PARRA    25-0103 ARCADIA   PUERTA  LISTONES ESTRUCTURA   \n",
      "1     JAIRO FUENTE       00-0000 WLZF   PUERTA             TABLEROS   \n",
      "2     FUAD AGUILAR    25-0103 ARCADIA   PUERTA             TABLEROS   \n",
      "3  ORLANDO CABRERA    25-0103 ARCADIA   PUERTA             TABLEROS   \n",
      "4      ELKIN PARRA  25-0306 THE WOODS   PUERTA  LISTONES ESTRUCTURA   \n",
      "\n",
      "        ruta    maquina    proceso  piezas         fecha_inicio  \\\n",
      "0    PINTURA     CABINA     LACADO       2   22/6/2025, 9:39:30   \n",
      "1    PINTURA     CABINA     LACADO       5   22/6/2025, 9:45:26   \n",
      "2  MAQUINADO  CNC ROVER  PERFORADO       7   22/6/2025, 9:51:29   \n",
      "3  MAQUINADO    CEPILLO     GRUESO       2  2025-06-22 12:53:14   \n",
      "4  MAQUINADO    CEPILLO     GRUESO      35  2025-06-22 13:01:01   \n",
      "\n",
      "             fecha_fin  \n",
      "0   22/6/2025, 9:39:32  \n",
      "1   22/6/2025, 9:48:37  \n",
      "2   22/6/2025, 9:51:38  \n",
      "3  2025-06-22 12:53:18  \n",
      "4  2025-06-22 13:02:51  \n"
     ]
    }
   ],
   "source": [
    "import pandas as pd\n",
    "\n",
    "# URL en modo export CSV\n",
    "url = \"https://docs.google.com/spreadsheets/d/1YtUaTmcVQR7N9FvXb5mYmvrUKkOnufwQV9HoF9Gf75I/export?format=csv&gid=0\"\n",
    "\n",
    "# Leer datos\n",
    "df = pd.read_csv(url)\n",
    "\n",
    "print(\"Filas cargadas:\", len(df))\n",
    "print(df.head())\n"
   ]
  },
  {
   "cell_type": "code",
   "execution_count": null,
   "id": "d6309fbe",
   "metadata": {},
   "outputs": [
    {
     "name": "stderr",
     "output_type": "stream",
     "text": [
      "C:\\Users\\ASUS\\AppData\\Local\\Temp\\ipykernel_23648\\3312547084.py:8: UserWarning: Parsing dates in %d/%m/%Y, %H:%M:%S format when dayfirst=False (the default) was specified. Pass `dayfirst=True` or specify a format to silence this warning.\n",
      "  df['fecha_inicio_dt'] = pd.to_datetime(df['fecha_inicio'], errors='coerce')\n",
      "C:\\Users\\ASUS\\AppData\\Local\\Temp\\ipykernel_23648\\3312547084.py:9: UserWarning: Parsing dates in %d/%m/%Y, %H:%M:%S format when dayfirst=False (the default) was specified. Pass `dayfirst=True` or specify a format to silence this warning.\n",
      "  df['fecha_fin_dt'] = pd.to_datetime(df['fecha_fin'], errors='coerce')\n"
     ]
    }
   ],
   "source": [
    "import numpy as np\n",
    "\n",
    "# Definir el rango de hora de almuerzo (por ejemplo, de 12:00 a 13:00)\n",
    "almuerzo_inicio = pd.to_datetime(\"12:00:00\").time()\n",
    "almuerzo_fin = pd.to_datetime(\"13:00:00\").time()\n",
    "\n",
    "# Convertir las columnas de fecha a datetime\n",
    "df['fecha_inicio_dt'] = pd.to_datetime(df['fecha_inicio'], errors='coerce')\n",
    "df['fecha_fin_dt'] = pd.to_datetime(df['fecha_fin'], errors='coerce')\n",
    "\n",
    "def calcular_almuerzo(row):\n",
    "    # Si alguna fecha es NaT, retornar 0\n",
    "    if pd.isnull(row['fecha_inicio_dt']) or pd.isnull(row['fecha_fin_dt']):\n",
    "        return 0\n",
    "    # Crear rango de almuerzo en el mismo día que fecha_inicio\n",
    "    almuerzo_start = row['fecha_inicio_dt'].replace(hour=almuerzo_inicio.hour, minute=almuerzo_inicio.minute, second=almuerzo_inicio.second)\n",
    "    almuerzo_end = row['fecha_inicio_dt'].replace(hour=almuerzo_fin.hour, minute=almuerzo_fin.minute, second=almuerzo_fin.second)\n",
    "    # Calcular intersección\n",
    "    inicio = max(row['fecha_inicio_dt'], almuerzo_start)\n",
    "    fin = min(row['fecha_fin_dt'], almuerzo_end)\n",
    "    delta = (fin - inicio).total_seconds() / 60  # minutos\n",
    "    return max(0, delta)\n",
    "\n",
    "df['min_almuerzo'] = df.apply(calcular_almuerzo, axis=1)"
   ]
  },
  {
   "cell_type": "code",
   "execution_count": 5,
   "id": "0e087b84",
   "metadata": {},
   "outputs": [],
   "source": [
    "# Calcular la diferencia en minutos entre fecha_inicio_dt y fecha_fin_dt, restando min_almuerzo\n",
    "def calcular_minutos(row):\n",
    "    if pd.isnull(row['fecha_inicio_dt']) or pd.isnull(row['fecha_fin_dt']):\n",
    "        return 0\n",
    "    total_min = (row['fecha_fin_dt'] - row['fecha_inicio_dt']).total_seconds() / 60\n",
    "    return max(0, total_min - row['min_almuerzo'])\n",
    "\n",
    "df['minutos'] = df.apply(calcular_minutos, axis=1)"
   ]
  },
  {
   "cell_type": "code",
   "execution_count": 12,
   "id": "300def45",
   "metadata": {},
   "outputs": [
    {
     "data": {
      "text/html": [
       "<div>\n",
       "<style scoped>\n",
       "    .dataframe tbody tr th:only-of-type {\n",
       "        vertical-align: middle;\n",
       "    }\n",
       "\n",
       "    .dataframe tbody tr th {\n",
       "        vertical-align: top;\n",
       "    }\n",
       "\n",
       "    .dataframe thead th {\n",
       "        text-align: right;\n",
       "    }\n",
       "</style>\n",
       "<table border=\"1\" class=\"dataframe\">\n",
       "  <thead>\n",
       "    <tr style=\"text-align: right;\">\n",
       "      <th></th>\n",
       "      <th>nombre</th>\n",
       "      <th>proyecto</th>\n",
       "      <th>producto</th>\n",
       "      <th>parte</th>\n",
       "      <th>ruta</th>\n",
       "      <th>maquina</th>\n",
       "      <th>proceso</th>\n",
       "      <th>piezas</th>\n",
       "      <th>fecha_inicio</th>\n",
       "      <th>fecha_fin</th>\n",
       "      <th>fecha_inicio_dt</th>\n",
       "      <th>fecha_fin_dt</th>\n",
       "      <th>min_almuerzo</th>\n",
       "      <th>minutos</th>\n",
       "      <th>fuera_oficina</th>\n",
       "    </tr>\n",
       "  </thead>\n",
       "  <tbody>\n",
       "    <tr>\n",
       "      <th>0</th>\n",
       "      <td>ELKIN PARRA</td>\n",
       "      <td>25-0103 ARCADIA</td>\n",
       "      <td>PUERTA</td>\n",
       "      <td>LISTONES ESTRUCTURA</td>\n",
       "      <td>PINTURA</td>\n",
       "      <td>CABINA</td>\n",
       "      <td>LACADO</td>\n",
       "      <td>2</td>\n",
       "      <td>22/6/2025, 9:39:30</td>\n",
       "      <td>22/6/2025, 9:39:32</td>\n",
       "      <td>2025-06-22 09:39:30</td>\n",
       "      <td>2025-06-22 09:39:32</td>\n",
       "      <td>0</td>\n",
       "      <td>0.033333</td>\n",
       "      <td>0</td>\n",
       "    </tr>\n",
       "    <tr>\n",
       "      <th>1</th>\n",
       "      <td>JAIRO FUENTE</td>\n",
       "      <td>00-0000 WLZF</td>\n",
       "      <td>PUERTA</td>\n",
       "      <td>TABLEROS</td>\n",
       "      <td>PINTURA</td>\n",
       "      <td>CABINA</td>\n",
       "      <td>LACADO</td>\n",
       "      <td>5</td>\n",
       "      <td>22/6/2025, 9:45:26</td>\n",
       "      <td>22/6/2025, 9:48:37</td>\n",
       "      <td>2025-06-22 09:45:26</td>\n",
       "      <td>2025-06-22 09:48:37</td>\n",
       "      <td>0</td>\n",
       "      <td>3.183333</td>\n",
       "      <td>0</td>\n",
       "    </tr>\n",
       "  </tbody>\n",
       "</table>\n",
       "</div>"
      ],
      "text/plain": [
       "         nombre         proyecto producto                parte     ruta  \\\n",
       "0   ELKIN PARRA  25-0103 ARCADIA   PUERTA  LISTONES ESTRUCTURA  PINTURA   \n",
       "1  JAIRO FUENTE     00-0000 WLZF   PUERTA             TABLEROS  PINTURA   \n",
       "\n",
       "  maquina proceso  piezas        fecha_inicio           fecha_fin  \\\n",
       "0  CABINA  LACADO       2  22/6/2025, 9:39:30  22/6/2025, 9:39:32   \n",
       "1  CABINA  LACADO       5  22/6/2025, 9:45:26  22/6/2025, 9:48:37   \n",
       "\n",
       "      fecha_inicio_dt        fecha_fin_dt  min_almuerzo   minutos  \\\n",
       "0 2025-06-22 09:39:30 2025-06-22 09:39:32             0  0.033333   \n",
       "1 2025-06-22 09:45:26 2025-06-22 09:48:37             0  3.183333   \n",
       "\n",
       "   fuera_oficina  \n",
       "0              0  \n",
       "1              0  "
      ]
     },
     "execution_count": 12,
     "metadata": {},
     "output_type": "execute_result"
    }
   ],
   "source": [
    "df.head(2)"
   ]
  },
  {
   "cell_type": "code",
   "execution_count": null,
   "id": "a0b0b1f7",
   "metadata": {},
   "outputs": [],
   "source": [
    "# Definir hora de salida de oficina (17:30)\n",
    "hora_salida = pd.to_datetime(\"17:30:00\").time()\n",
    "\n",
    "def calcular_fuera_oficina(row):\n",
    "    if pd.isnull(row['fecha_fin_dt']):\n",
    "        return 0\n",
    "    fin = row['fecha_fin_dt'].time()\n",
    "    # Si la hora de fin es después de 17:30, marcar como 1 (hay tiempo fuera de oficina)\n",
    "    return int(fin > hora_salida)\n",
    "\n",
    "df['fuera_oficina'] = df.apply(calcular_fuera_oficina, axis=1)"
   ]
  },
  {
   "cell_type": "code",
   "execution_count": 14,
   "id": "817f7862",
   "metadata": {},
   "outputs": [],
   "source": [
    "def ajustar_minutos_fuera_oficina(row):\n",
    "    if row['fuera_oficina'] == 1 and not pd.isnull(row['fecha_inicio_dt']) and not pd.isnull(row['fecha_fin_dt']):\n",
    "        # Limitar fecha_fin_dt a las 17:30 del mismo día\n",
    "        fecha_salida = row['fecha_fin_dt'].replace(hour=hora_salida.hour, minute=hora_salida.minute, second=0)\n",
    "        total_min = (fecha_salida - row['fecha_inicio_dt']).total_seconds() / 60\n",
    "        # Restar min_almuerzo si corresponde\n",
    "        return max(0, total_min - row['min_almuerzo'])\n",
    "    else:\n",
    "        return row['minutos']\n",
    "\n",
    "df['minutos_ajustados'] = df.apply(ajustar_minutos_fuera_oficina, axis=1)"
   ]
  },
  {
   "cell_type": "code",
   "execution_count": 8,
   "id": "ff052e65",
   "metadata": {},
   "outputs": [
    {
     "data": {
      "text/plain": [
       "Index(['nombre', 'proyecto', 'producto', 'parte', 'ruta', 'maquina', 'proceso',\n",
       "       'piezas', 'fecha_inicio', 'fecha_fin', 'fecha_inicio_dt',\n",
       "       'fecha_fin_dt', 'min_almuerzo', 'minutos'],\n",
       "      dtype='object')"
      ]
     },
     "execution_count": 8,
     "metadata": {},
     "output_type": "execute_result"
    }
   ],
   "source": [
    "df.columns"
   ]
  },
  {
   "cell_type": "code",
   "execution_count": null,
   "id": "9f34efcd",
   "metadata": {},
   "outputs": [],
   "source": []
  }
 ],
 "metadata": {
  "kernelspec": {
   "display_name": "Proyec_NLP",
   "language": "python",
   "name": "python3"
  },
  "language_info": {
   "codemirror_mode": {
    "name": "ipython",
    "version": 3
   },
   "file_extension": ".py",
   "mimetype": "text/x-python",
   "name": "python",
   "nbconvert_exporter": "python",
   "pygments_lexer": "ipython3",
   "version": "3.10.18"
  }
 },
 "nbformat": 4,
 "nbformat_minor": 5
}
